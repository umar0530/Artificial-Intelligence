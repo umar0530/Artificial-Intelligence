{
 "cells": [
  {
   "cell_type": "code",
   "execution_count": 1,
   "id": "4f71b0c2",
   "metadata": {},
   "outputs": [],
   "source": []
  },
  {
   "cell_type": "markdown",
   "id": "7f80d4f0",
   "metadata": {},
   "source": [
    "## Music Recommendation System using Spotify Dataset"
   ]
  },
  {
   "cell_type": "code",
   "execution_count": 14,
   "id": "6359c91a",
   "metadata": {},
   "outputs": [],
   "source": [
    "import pandas as pd\n",
    "import numpy as np\n",
    "import matplotlib.pyplot as plt\n",
    "import seaborn as sns"
   ]
  },
  {
   "cell_type": "code",
   "execution_count": 16,
   "id": "b05aabc5",
   "metadata": {},
   "outputs": [],
   "source": [
    "df=pd.read_csv('spotify_dataset.csv')"
   ]
  },
  {
   "cell_type": "code",
   "execution_count": 17,
   "id": "1c7c84a5",
   "metadata": {},
   "outputs": [
    {
     "data": {
      "text/html": [
       "<div>\n",
       "<style scoped>\n",
       "    .dataframe tbody tr th:only-of-type {\n",
       "        vertical-align: middle;\n",
       "    }\n",
       "\n",
       "    .dataframe tbody tr th {\n",
       "        vertical-align: top;\n",
       "    }\n",
       "\n",
       "    .dataframe thead th {\n",
       "        text-align: right;\n",
       "    }\n",
       "</style>\n",
       "<table border=\"1\" class=\"dataframe\">\n",
       "  <thead>\n",
       "    <tr style=\"text-align: right;\">\n",
       "      <th></th>\n",
       "      <th>Serial Number</th>\n",
       "      <th>Song</th>\n",
       "      <th>Artist</th>\n",
       "      <th>Genres</th>\n",
       "      <th>Album</th>\n",
       "      <th>Duration</th>\n",
       "      <th>Album Label</th>\n",
       "      <th>Country</th>\n",
       "      <th>Streams</th>\n",
       "    </tr>\n",
       "  </thead>\n",
       "  <tbody>\n",
       "    <tr>\n",
       "      <th>0</th>\n",
       "      <td>1</td>\n",
       "      <td>Pani Da Rang Male (From \"Vicky Donor\")</td>\n",
       "      <td>Ayushmann Khurrana</td>\n",
       "      <td>World/Traditional</td>\n",
       "      <td>Vicky Donor</td>\n",
       "      <td>04:00</td>\n",
       "      <td>Eros Music</td>\n",
       "      <td>India</td>\n",
       "      <td>NaN</td>\n",
       "    </tr>\n",
       "    <tr>\n",
       "      <th>1</th>\n",
       "      <td>2</td>\n",
       "      <td>Channa Mereya</td>\n",
       "      <td>Pritam,Arijit Singh</td>\n",
       "      <td>World/Traditional</td>\n",
       "      <td>Ae Dil Hai Mushkil (Original Motion Picture So...</td>\n",
       "      <td>04:49</td>\n",
       "      <td>Sony Music Entertainment India Pvt. Ltd.</td>\n",
       "      <td>India</td>\n",
       "      <td>NaN</td>\n",
       "    </tr>\n",
       "    <tr>\n",
       "      <th>2</th>\n",
       "      <td>3</td>\n",
       "      <td>Chand Sifarish</td>\n",
       "      <td>Jatin-Lalit,Shaan,Kailash Kher,Prasoon Joshi</td>\n",
       "      <td>Pop, World/Traditional, Hip Hop</td>\n",
       "      <td>Fanaa</td>\n",
       "      <td>04:35</td>\n",
       "      <td>YRF Music</td>\n",
       "      <td>India</td>\n",
       "      <td>NaN</td>\n",
       "    </tr>\n",
       "    <tr>\n",
       "      <th>3</th>\n",
       "      <td>4</td>\n",
       "      <td>Yeh Fitoor Mera</td>\n",
       "      <td>Arijit Singh</td>\n",
       "      <td>World/Traditional</td>\n",
       "      <td>Fitoor</td>\n",
       "      <td>04:43</td>\n",
       "      <td>Zee Music Company</td>\n",
       "      <td>India</td>\n",
       "      <td>NaN</td>\n",
       "    </tr>\n",
       "    <tr>\n",
       "      <th>4</th>\n",
       "      <td>5</td>\n",
       "      <td>Galliyan (From \"Ek Villain\")</td>\n",
       "      <td>Ankit Tiwari</td>\n",
       "      <td>World/Traditional</td>\n",
       "      <td>Best Of Shraddha Kapoor</td>\n",
       "      <td>05:40</td>\n",
       "      <td>T-Series</td>\n",
       "      <td>India</td>\n",
       "      <td>NaN</td>\n",
       "    </tr>\n",
       "  </tbody>\n",
       "</table>\n",
       "</div>"
      ],
      "text/plain": [
       "   Serial Number                                     Song  \\\n",
       "0              1   Pani Da Rang Male (From \"Vicky Donor\")   \n",
       "1              2                            Channa Mereya   \n",
       "2              3                           Chand Sifarish   \n",
       "3              4                          Yeh Fitoor Mera   \n",
       "4              5             Galliyan (From \"Ek Villain\")   \n",
       "\n",
       "                                         Artist  \\\n",
       "0                            Ayushmann Khurrana   \n",
       "1                           Pritam,Arijit Singh   \n",
       "2  Jatin-Lalit,Shaan,Kailash Kher,Prasoon Joshi   \n",
       "3                                  Arijit Singh   \n",
       "4                                  Ankit Tiwari   \n",
       "\n",
       "                            Genres  \\\n",
       "0                World/Traditional   \n",
       "1                World/Traditional   \n",
       "2  Pop, World/Traditional, Hip Hop   \n",
       "3                World/Traditional   \n",
       "4                World/Traditional   \n",
       "\n",
       "                                               Album Duration  \\\n",
       "0                                        Vicky Donor    04:00   \n",
       "1  Ae Dil Hai Mushkil (Original Motion Picture So...    04:49   \n",
       "2                                              Fanaa    04:35   \n",
       "3                                             Fitoor    04:43   \n",
       "4                            Best Of Shraddha Kapoor    05:40   \n",
       "\n",
       "                                Album Label Country  Streams  \n",
       "0                                Eros Music   India      NaN  \n",
       "1  Sony Music Entertainment India Pvt. Ltd.   India      NaN  \n",
       "2                                 YRF Music   India      NaN  \n",
       "3                         Zee Music Company   India      NaN  \n",
       "4                                  T-Series   India      NaN  "
      ]
     },
     "execution_count": 17,
     "metadata": {},
     "output_type": "execute_result"
    }
   ],
   "source": [
    "df.head(5)"
   ]
  },
  {
   "cell_type": "markdown",
   "id": "bf1f0893",
   "metadata": {},
   "source": [
    "### Data Cleaning"
   ]
  },
  {
   "cell_type": "code",
   "execution_count": 18,
   "id": "b00fc14c",
   "metadata": {},
   "outputs": [
    {
     "data": {
      "text/plain": [
       "(170, 9)"
      ]
     },
     "execution_count": 18,
     "metadata": {},
     "output_type": "execute_result"
    }
   ],
   "source": [
    "df.shape"
   ]
  },
  {
   "cell_type": "code",
   "execution_count": 19,
   "id": "6c73ec72",
   "metadata": {},
   "outputs": [
    {
     "data": {
      "text/plain": [
       "Serial Number      0\n",
       "Song               0\n",
       "Artist             0\n",
       "Genres             8\n",
       "Album              0\n",
       "Duration           0\n",
       "Album Label        1\n",
       "Country            3\n",
       "Streams          170\n",
       "dtype: int64"
      ]
     },
     "execution_count": 19,
     "metadata": {},
     "output_type": "execute_result"
    }
   ],
   "source": [
    "df.isnull().sum()"
   ]
  },
  {
   "cell_type": "code",
   "execution_count": 20,
   "id": "4efeaf5c",
   "metadata": {},
   "outputs": [],
   "source": [
    "df.drop(columns='Serial Number',inplace=True)\n",
    "df.drop(columns='Streams',inplace=True)"
   ]
  },
  {
   "cell_type": "code",
   "execution_count": 21,
   "id": "f09e504e",
   "metadata": {},
   "outputs": [
    {
     "data": {
      "text/plain": [
       "0"
      ]
     },
     "execution_count": 21,
     "metadata": {},
     "output_type": "execute_result"
    }
   ],
   "source": [
    "df.duplicated().sum()"
   ]
  },
  {
   "cell_type": "code",
   "execution_count": 22,
   "id": "b0b1544b",
   "metadata": {},
   "outputs": [],
   "source": [
    "df[['minutes','sec']]=df['Duration'].str.split(':',expand=True)"
   ]
  },
  {
   "cell_type": "code",
   "execution_count": 23,
   "id": "e648cbba",
   "metadata": {},
   "outputs": [
    {
     "data": {
      "text/plain": [
       "03            78\n",
       "04            39\n",
       "02            32\n",
       "05             9\n",
       "06             6\n",
       "01             5\n",
       "02-12-2016     1\n",
       "Name: minutes, dtype: int64"
      ]
     },
     "execution_count": 23,
     "metadata": {},
     "output_type": "execute_result"
    }
   ],
   "source": [
    "df.minutes.value_counts()"
   ]
  },
  {
   "cell_type": "code",
   "execution_count": 24,
   "id": "8a769ebd",
   "metadata": {},
   "outputs": [],
   "source": [
    "df.drop(df.index[df['minutes'] == '02-12-2016'], inplace=True)"
   ]
  },
  {
   "cell_type": "code",
   "execution_count": 25,
   "id": "41e8e219",
   "metadata": {},
   "outputs": [
    {
     "data": {
      "text/html": [
       "<div>\n",
       "<style scoped>\n",
       "    .dataframe tbody tr th:only-of-type {\n",
       "        vertical-align: middle;\n",
       "    }\n",
       "\n",
       "    .dataframe tbody tr th {\n",
       "        vertical-align: top;\n",
       "    }\n",
       "\n",
       "    .dataframe thead th {\n",
       "        text-align: right;\n",
       "    }\n",
       "</style>\n",
       "<table border=\"1\" class=\"dataframe\">\n",
       "  <thead>\n",
       "    <tr style=\"text-align: right;\">\n",
       "      <th></th>\n",
       "      <th>Song</th>\n",
       "      <th>Artist</th>\n",
       "      <th>Genres</th>\n",
       "      <th>Album</th>\n",
       "      <th>Duration</th>\n",
       "      <th>Album Label</th>\n",
       "      <th>Country</th>\n",
       "      <th>minutes</th>\n",
       "      <th>sec</th>\n",
       "    </tr>\n",
       "  </thead>\n",
       "  <tbody>\n",
       "    <tr>\n",
       "      <th>0</th>\n",
       "      <td>Pani Da Rang Male (From \"Vicky Donor\")</td>\n",
       "      <td>Ayushmann Khurrana</td>\n",
       "      <td>World/Traditional</td>\n",
       "      <td>Vicky Donor</td>\n",
       "      <td>04:00</td>\n",
       "      <td>Eros Music</td>\n",
       "      <td>India</td>\n",
       "      <td>04</td>\n",
       "      <td>00</td>\n",
       "    </tr>\n",
       "  </tbody>\n",
       "</table>\n",
       "</div>"
      ],
      "text/plain": [
       "                                      Song              Artist  \\\n",
       "0   Pani Da Rang Male (From \"Vicky Donor\")  Ayushmann Khurrana   \n",
       "\n",
       "              Genres        Album Duration Album Label Country minutes sec  \n",
       "0  World/Traditional  Vicky Donor    04:00  Eros Music   India      04  00  "
      ]
     },
     "execution_count": 25,
     "metadata": {},
     "output_type": "execute_result"
    }
   ],
   "source": [
    "df.head(1)"
   ]
  },
  {
   "cell_type": "code",
   "execution_count": 26,
   "id": "8bdf5111",
   "metadata": {},
   "outputs": [],
   "source": [
    "df['minutes']=df['minutes'].astype(int)\n",
    "df['sec']=df['sec'].astype(int)"
   ]
  },
  {
   "cell_type": "code",
   "execution_count": 27,
   "id": "7ce462c2",
   "metadata": {},
   "outputs": [],
   "source": [
    "totaldur=(df.minutes*60)+df.sec\n",
    "df['totaldurr']=totaldur"
   ]
  },
  {
   "cell_type": "code",
   "execution_count": 28,
   "id": "336602e7",
   "metadata": {},
   "outputs": [
    {
     "data": {
      "text/html": [
       "<div>\n",
       "<style scoped>\n",
       "    .dataframe tbody tr th:only-of-type {\n",
       "        vertical-align: middle;\n",
       "    }\n",
       "\n",
       "    .dataframe tbody tr th {\n",
       "        vertical-align: top;\n",
       "    }\n",
       "\n",
       "    .dataframe thead th {\n",
       "        text-align: right;\n",
       "    }\n",
       "</style>\n",
       "<table border=\"1\" class=\"dataframe\">\n",
       "  <thead>\n",
       "    <tr style=\"text-align: right;\">\n",
       "      <th></th>\n",
       "      <th>Song</th>\n",
       "      <th>Artist</th>\n",
       "      <th>Genres</th>\n",
       "      <th>Album</th>\n",
       "      <th>Duration</th>\n",
       "      <th>Album Label</th>\n",
       "      <th>Country</th>\n",
       "      <th>minutes</th>\n",
       "      <th>sec</th>\n",
       "      <th>totaldurr</th>\n",
       "    </tr>\n",
       "  </thead>\n",
       "  <tbody>\n",
       "    <tr>\n",
       "      <th>0</th>\n",
       "      <td>Pani Da Rang Male (From \"Vicky Donor\")</td>\n",
       "      <td>Ayushmann Khurrana</td>\n",
       "      <td>World/Traditional</td>\n",
       "      <td>Vicky Donor</td>\n",
       "      <td>04:00</td>\n",
       "      <td>Eros Music</td>\n",
       "      <td>India</td>\n",
       "      <td>4</td>\n",
       "      <td>0</td>\n",
       "      <td>240</td>\n",
       "    </tr>\n",
       "    <tr>\n",
       "      <th>1</th>\n",
       "      <td>Channa Mereya</td>\n",
       "      <td>Pritam,Arijit Singh</td>\n",
       "      <td>World/Traditional</td>\n",
       "      <td>Ae Dil Hai Mushkil (Original Motion Picture So...</td>\n",
       "      <td>04:49</td>\n",
       "      <td>Sony Music Entertainment India Pvt. Ltd.</td>\n",
       "      <td>India</td>\n",
       "      <td>4</td>\n",
       "      <td>49</td>\n",
       "      <td>289</td>\n",
       "    </tr>\n",
       "  </tbody>\n",
       "</table>\n",
       "</div>"
      ],
      "text/plain": [
       "                                      Song               Artist  \\\n",
       "0   Pani Da Rang Male (From \"Vicky Donor\")   Ayushmann Khurrana   \n",
       "1                            Channa Mereya  Pritam,Arijit Singh   \n",
       "\n",
       "              Genres                                              Album  \\\n",
       "0  World/Traditional                                        Vicky Donor   \n",
       "1  World/Traditional  Ae Dil Hai Mushkil (Original Motion Picture So...   \n",
       "\n",
       "  Duration                               Album Label Country  minutes  sec  \\\n",
       "0    04:00                                Eros Music   India        4    0   \n",
       "1    04:49  Sony Music Entertainment India Pvt. Ltd.   India        4   49   \n",
       "\n",
       "   totaldurr  \n",
       "0        240  \n",
       "1        289  "
      ]
     },
     "execution_count": 28,
     "metadata": {},
     "output_type": "execute_result"
    }
   ],
   "source": [
    "df.head(2)"
   ]
  },
  {
   "cell_type": "code",
   "execution_count": 29,
   "id": "0b1a963f",
   "metadata": {},
   "outputs": [],
   "source": [
    "df.drop(['minutes','Duration','sec'],axis=1,inplace=True)"
   ]
  },
  {
   "cell_type": "code",
   "execution_count": 30,
   "id": "096a6ae7",
   "metadata": {},
   "outputs": [
    {
     "data": {
      "text/html": [
       "<div>\n",
       "<style scoped>\n",
       "    .dataframe tbody tr th:only-of-type {\n",
       "        vertical-align: middle;\n",
       "    }\n",
       "\n",
       "    .dataframe tbody tr th {\n",
       "        vertical-align: top;\n",
       "    }\n",
       "\n",
       "    .dataframe thead th {\n",
       "        text-align: right;\n",
       "    }\n",
       "</style>\n",
       "<table border=\"1\" class=\"dataframe\">\n",
       "  <thead>\n",
       "    <tr style=\"text-align: right;\">\n",
       "      <th></th>\n",
       "      <th>Song</th>\n",
       "      <th>Artist</th>\n",
       "      <th>Genres</th>\n",
       "      <th>Album</th>\n",
       "      <th>Album Label</th>\n",
       "      <th>Country</th>\n",
       "      <th>totaldurr</th>\n",
       "    </tr>\n",
       "  </thead>\n",
       "  <tbody>\n",
       "    <tr>\n",
       "      <th>0</th>\n",
       "      <td>Pani Da Rang Male (From \"Vicky Donor\")</td>\n",
       "      <td>Ayushmann Khurrana</td>\n",
       "      <td>World/Traditional</td>\n",
       "      <td>Vicky Donor</td>\n",
       "      <td>Eros Music</td>\n",
       "      <td>India</td>\n",
       "      <td>240</td>\n",
       "    </tr>\n",
       "    <tr>\n",
       "      <th>1</th>\n",
       "      <td>Channa Mereya</td>\n",
       "      <td>Pritam,Arijit Singh</td>\n",
       "      <td>World/Traditional</td>\n",
       "      <td>Ae Dil Hai Mushkil (Original Motion Picture So...</td>\n",
       "      <td>Sony Music Entertainment India Pvt. Ltd.</td>\n",
       "      <td>India</td>\n",
       "      <td>289</td>\n",
       "    </tr>\n",
       "    <tr>\n",
       "      <th>2</th>\n",
       "      <td>Chand Sifarish</td>\n",
       "      <td>Jatin-Lalit,Shaan,Kailash Kher,Prasoon Joshi</td>\n",
       "      <td>Pop, World/Traditional, Hip Hop</td>\n",
       "      <td>Fanaa</td>\n",
       "      <td>YRF Music</td>\n",
       "      <td>India</td>\n",
       "      <td>275</td>\n",
       "    </tr>\n",
       "    <tr>\n",
       "      <th>3</th>\n",
       "      <td>Yeh Fitoor Mera</td>\n",
       "      <td>Arijit Singh</td>\n",
       "      <td>World/Traditional</td>\n",
       "      <td>Fitoor</td>\n",
       "      <td>Zee Music Company</td>\n",
       "      <td>India</td>\n",
       "      <td>283</td>\n",
       "    </tr>\n",
       "    <tr>\n",
       "      <th>4</th>\n",
       "      <td>Galliyan (From \"Ek Villain\")</td>\n",
       "      <td>Ankit Tiwari</td>\n",
       "      <td>World/Traditional</td>\n",
       "      <td>Best Of Shraddha Kapoor</td>\n",
       "      <td>T-Series</td>\n",
       "      <td>India</td>\n",
       "      <td>340</td>\n",
       "    </tr>\n",
       "  </tbody>\n",
       "</table>\n",
       "</div>"
      ],
      "text/plain": [
       "                                      Song  \\\n",
       "0   Pani Da Rang Male (From \"Vicky Donor\")   \n",
       "1                            Channa Mereya   \n",
       "2                           Chand Sifarish   \n",
       "3                          Yeh Fitoor Mera   \n",
       "4             Galliyan (From \"Ek Villain\")   \n",
       "\n",
       "                                         Artist  \\\n",
       "0                            Ayushmann Khurrana   \n",
       "1                           Pritam,Arijit Singh   \n",
       "2  Jatin-Lalit,Shaan,Kailash Kher,Prasoon Joshi   \n",
       "3                                  Arijit Singh   \n",
       "4                                  Ankit Tiwari   \n",
       "\n",
       "                            Genres  \\\n",
       "0                World/Traditional   \n",
       "1                World/Traditional   \n",
       "2  Pop, World/Traditional, Hip Hop   \n",
       "3                World/Traditional   \n",
       "4                World/Traditional   \n",
       "\n",
       "                                               Album  \\\n",
       "0                                        Vicky Donor   \n",
       "1  Ae Dil Hai Mushkil (Original Motion Picture So...   \n",
       "2                                              Fanaa   \n",
       "3                                             Fitoor   \n",
       "4                            Best Of Shraddha Kapoor   \n",
       "\n",
       "                                Album Label Country  totaldurr  \n",
       "0                                Eros Music   India        240  \n",
       "1  Sony Music Entertainment India Pvt. Ltd.   India        289  \n",
       "2                                 YRF Music   India        275  \n",
       "3                         Zee Music Company   India        283  \n",
       "4                                  T-Series   India        340  "
      ]
     },
     "execution_count": 30,
     "metadata": {},
     "output_type": "execute_result"
    }
   ],
   "source": [
    "df.head(5)"
   ]
  },
  {
   "cell_type": "code",
   "execution_count": 31,
   "id": "68906e6b",
   "metadata": {},
   "outputs": [
    {
     "data": {
      "text/html": [
       "<div>\n",
       "<style scoped>\n",
       "    .dataframe tbody tr th:only-of-type {\n",
       "        vertical-align: middle;\n",
       "    }\n",
       "\n",
       "    .dataframe tbody tr th {\n",
       "        vertical-align: top;\n",
       "    }\n",
       "\n",
       "    .dataframe thead th {\n",
       "        text-align: right;\n",
       "    }\n",
       "</style>\n",
       "<table border=\"1\" class=\"dataframe\">\n",
       "  <thead>\n",
       "    <tr style=\"text-align: right;\">\n",
       "      <th></th>\n",
       "      <th>totaldurr</th>\n",
       "    </tr>\n",
       "  </thead>\n",
       "  <tbody>\n",
       "    <tr>\n",
       "      <th>count</th>\n",
       "      <td>169.000000</td>\n",
       "    </tr>\n",
       "    <tr>\n",
       "      <th>mean</th>\n",
       "      <td>220.147929</td>\n",
       "    </tr>\n",
       "    <tr>\n",
       "      <th>std</th>\n",
       "      <td>58.466377</td>\n",
       "    </tr>\n",
       "    <tr>\n",
       "      <th>min</th>\n",
       "      <td>95.000000</td>\n",
       "    </tr>\n",
       "    <tr>\n",
       "      <th>25%</th>\n",
       "      <td>184.000000</td>\n",
       "    </tr>\n",
       "    <tr>\n",
       "      <th>50%</th>\n",
       "      <td>213.000000</td>\n",
       "    </tr>\n",
       "    <tr>\n",
       "      <th>75%</th>\n",
       "      <td>247.000000</td>\n",
       "    </tr>\n",
       "    <tr>\n",
       "      <th>max</th>\n",
       "      <td>409.000000</td>\n",
       "    </tr>\n",
       "  </tbody>\n",
       "</table>\n",
       "</div>"
      ],
      "text/plain": [
       "        totaldurr\n",
       "count  169.000000\n",
       "mean   220.147929\n",
       "std     58.466377\n",
       "min     95.000000\n",
       "25%    184.000000\n",
       "50%    213.000000\n",
       "75%    247.000000\n",
       "max    409.000000"
      ]
     },
     "execution_count": 31,
     "metadata": {},
     "output_type": "execute_result"
    }
   ],
   "source": [
    "df.describe()"
   ]
  },
  {
   "cell_type": "markdown",
   "id": "15e92f00",
   "metadata": {},
   "source": [
    "### Data Analysis"
   ]
  },
  {
   "cell_type": "code",
   "execution_count": 32,
   "id": "aa342e5a",
   "metadata": {},
   "outputs": [
    {
     "data": {
      "text/html": [
       "<style type=\"text/css\">\n",
       "#T_4ea8e_row0_col0 {\n",
       "  background-color: #ffffff;\n",
       "  color: #000000;\n",
       "}\n",
       "#T_4ea8e_row1_col0 {\n",
       "  background-color: #ffff5a;\n",
       "  color: #000000;\n",
       "}\n",
       "#T_4ea8e_row2_col0 {\n",
       "  background-color: #b30000;\n",
       "  color: #f1f1f1;\n",
       "}\n",
       "#T_4ea8e_row3_col0 {\n",
       "  background-color: #420000;\n",
       "  color: #f1f1f1;\n",
       "}\n",
       "#T_4ea8e_row4_col0 {\n",
       "  background-color: #0b0000;\n",
       "  color: #f1f1f1;\n",
       "}\n",
       "</style>\n",
       "<table id=\"T_4ea8e_\">\n",
       "  <thead>\n",
       "    <tr>\n",
       "      <th class=\"blank level0\" >&nbsp;</th>\n",
       "      <th class=\"col_heading level0 col0\" >Top 5 Album labels</th>\n",
       "    </tr>\n",
       "  </thead>\n",
       "  <tbody>\n",
       "    <tr>\n",
       "      <th id=\"T_4ea8e_level0_row0\" class=\"row_heading level0 row0\" >T-Series</th>\n",
       "      <td id=\"T_4ea8e_row0_col0\" class=\"data row0 col0\" >16</td>\n",
       "    </tr>\n",
       "    <tr>\n",
       "      <th id=\"T_4ea8e_level0_row1\" class=\"row_heading level0 row1\" >Republic Records</th>\n",
       "      <td id=\"T_4ea8e_row1_col0\" class=\"data row1 col0\" >14</td>\n",
       "    </tr>\n",
       "    <tr>\n",
       "      <th id=\"T_4ea8e_level0_row2\" class=\"row_heading level0 row2\" >Sony Music Entertainment India Pvt. Ltd.</th>\n",
       "      <td id=\"T_4ea8e_row2_col0\" class=\"data row2 col0\" >7</td>\n",
       "    </tr>\n",
       "    <tr>\n",
       "      <th id=\"T_4ea8e_level0_row3\" class=\"row_heading level0 row3\" >Columbia</th>\n",
       "      <td id=\"T_4ea8e_row3_col0\" class=\"data row3 col0\" >5</td>\n",
       "    </tr>\n",
       "    <tr>\n",
       "      <th id=\"T_4ea8e_level0_row4\" class=\"row_heading level0 row4\" >Atlantic Records</th>\n",
       "      <td id=\"T_4ea8e_row4_col0\" class=\"data row4 col0\" >4</td>\n",
       "    </tr>\n",
       "  </tbody>\n",
       "</table>\n"
      ],
      "text/plain": [
       "<pandas.io.formats.style.Styler at 0x1c120a6e9a0>"
      ]
     },
     "execution_count": 32,
     "metadata": {},
     "output_type": "execute_result"
    }
   ],
   "source": [
    "value_count = pd.DataFrame({'Top 5 Album labels':df['Album Label'].value_counts().head(5)})\n",
    "value_count.style.background_gradient(cmap='hot')"
   ]
  },
  {
   "cell_type": "code",
   "execution_count": 33,
   "id": "796d2f76",
   "metadata": {},
   "outputs": [
    {
     "data": {
      "text/html": [
       "<style type=\"text/css\">\n",
       "#T_fc1c9_row0_col0 {\n",
       "  background-color: #ffffff;\n",
       "  color: #000000;\n",
       "}\n",
       "#T_fc1c9_row1_col0 {\n",
       "  background-color: #ffff69;\n",
       "  color: #000000;\n",
       "}\n",
       "#T_fc1c9_row2_col0 {\n",
       "  background-color: #ff9d00;\n",
       "  color: #000000;\n",
       "}\n",
       "#T_fc1c9_row3_col0 {\n",
       "  background-color: #4c0000;\n",
       "  color: #f1f1f1;\n",
       "}\n",
       "#T_fc1c9_row4_col0 {\n",
       "  background-color: #0b0000;\n",
       "  color: #f1f1f1;\n",
       "}\n",
       "</style>\n",
       "<table id=\"T_fc1c9_\">\n",
       "  <thead>\n",
       "    <tr>\n",
       "      <th class=\"blank level0\" >&nbsp;</th>\n",
       "      <th class=\"col_heading level0 col0\" >Top 5 Genres</th>\n",
       "    </tr>\n",
       "  </thead>\n",
       "  <tbody>\n",
       "    <tr>\n",
       "      <th id=\"T_fc1c9_level0_row0\" class=\"row_heading level0 row0\" >Hip Hop</th>\n",
       "      <td id=\"T_fc1c9_row0_col0\" class=\"data row0 col0\" >27</td>\n",
       "    </tr>\n",
       "    <tr>\n",
       "      <th id=\"T_fc1c9_level0_row1\" class=\"row_heading level0 row1\" >Pop</th>\n",
       "      <td id=\"T_fc1c9_row1_col0\" class=\"data row1 col0\" >24</td>\n",
       "    </tr>\n",
       "    <tr>\n",
       "      <th id=\"T_fc1c9_level0_row2\" class=\"row_heading level0 row2\" >World/Traditional</th>\n",
       "      <td id=\"T_fc1c9_row2_col0\" class=\"data row2 col0\" >19</td>\n",
       "    </tr>\n",
       "    <tr>\n",
       "      <th id=\"T_fc1c9_level0_row3\" class=\"row_heading level0 row3\" >Hip Hop, World/Traditional</th>\n",
       "      <td id=\"T_fc1c9_row3_col0\" class=\"data row3 col0\" >9</td>\n",
       "    </tr>\n",
       "    <tr>\n",
       "      <th id=\"T_fc1c9_level0_row4\" class=\"row_heading level0 row4\" >Pop, Dance/Electronic</th>\n",
       "      <td id=\"T_fc1c9_row4_col0\" class=\"data row4 col0\" >7</td>\n",
       "    </tr>\n",
       "  </tbody>\n",
       "</table>\n"
      ],
      "text/plain": [
       "<pandas.io.formats.style.Styler at 0x1c120c1d490>"
      ]
     },
     "execution_count": 33,
     "metadata": {},
     "output_type": "execute_result"
    }
   ],
   "source": [
    "value_count = pd.DataFrame({'Top 5 Genres':df['Genres'].value_counts().head(5)})\n",
    "value_count.style.background_gradient(cmap='hot')"
   ]
  },
  {
   "cell_type": "code",
   "execution_count": 34,
   "id": "a67d2432",
   "metadata": {},
   "outputs": [
    {
     "data": {
      "text/plain": [
       "Text(0.5, 1.0, 'Top 3 Artist')"
      ]
     },
     "execution_count": 34,
     "metadata": {},
     "output_type": "execute_result"
    },
    {
     "data": {
      "image/png": "[encoded data removed]",
      "text/plain": [
       "<Figure size 1440x504 with 1 Axes>"
      ]
     },
     "metadata": {
      "needs_background": "light"
     },
     "output_type": "display_data"
    }
   ],
   "source": [
    "plt.figure(figsize=(20,7))\n",
    "df['Artist'].value_counts().head(3).sort_values().plot(kind = 'barh')\n",
    "plt.ylabel('Total Songs')\n",
    "plt.xlabel('Artist')\n",
    "plt.title('Top 3 Artist')"
   ]
  },
  {
   "cell_type": "code",
   "execution_count": null,
   "id": "9b4d5ac2",
   "metadata": {},
   "outputs": [],
   "source": []
  }
 ],
 "metadata": {
  "kernelspec": {
   "display_name": "Python 3 (ipykernel)",
   "language": "python",
   "name": "python3"
  },
  "language_info": {
   "codemirror_mode": {
    "name": "ipython",
    "version": 3
   },
   "file_extension": ".py",
   "mimetype": "text/x-python",
   "name": "python",
   "nbconvert_exporter": "python",
   "pygments_lexer": "ipython3",
   "version": "3.9.7"
  }
 },
 "nbformat": 4,
 "nbformat_minor": 5
}
